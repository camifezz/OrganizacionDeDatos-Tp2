{
  "nbformat": 4,
  "nbformat_minor": 0,
  "metadata": {
    "colab": {
      "name": "Random Forest One hot encoding sacando algunas columnas.ipynb",
      "provenance": [],
      "collapsed_sections": [],
      "authorship_tag": "ABX9TyMnBlt90bf440Ck+iTA8gag",
      "include_colab_link": true
    },
    "kernelspec": {
      "name": "python3",
      "display_name": "Python 3"
    },
    "language_info": {
      "name": "python"
    }
  },
  "cells": [
    {
      "cell_type": "markdown",
      "metadata": {
        "id": "view-in-github",
        "colab_type": "text"
      },
      "source": [
        "<a href=\"https://colab.research.google.com/github/camifezz/OrganizacionDeDatos-Tp2/blob/main/Random_Forest_One_hot_encoding_sacando_algunas_columnas.ipynb\" target=\"_parent\"><img src=\"https://colab.research.google.com/assets/colab-badge.svg\" alt=\"Open In Colab\"/></a>"
      ]
    },
    {
      "cell_type": "markdown",
      "metadata": {
        "id": "2DHAqBiFS4bt"
      },
      "source": [
        "#Instalamos Librerias"
      ]
    },
    {
      "cell_type": "code",
      "metadata": {
        "id": "87KP0itRSIwA"
      },
      "source": [
        "!pip install PyDrive"
      ],
      "execution_count": null,
      "outputs": []
    },
    {
      "cell_type": "code",
      "metadata": {
        "id": "9cox-oTwS8cy"
      },
      "source": [
        "from pydrive.auth import GoogleAuth\n",
        "from pydrive.drive import GoogleDrive\n",
        "from google.colab import auth\n",
        "from oauth2client.client import GoogleCredentials\n",
        "\n",
        "import pandas as pd\n",
        "import numpy as np\n",
        "import matplotlib.pyplot as plt\n",
        "import seaborn as sns\n",
        "\n",
        "from sklearn.model_selection import train_test_split\n",
        "from sklearn.metrics import f1_score \n",
        "from sklearn.ensemble import RandomForestClassifier\n",
        "from sklearn.metrics import mean_squared_error\n",
        "\n",
        "\n",
        "from google.colab import files"
      ],
      "execution_count": null,
      "outputs": []
    },
    {
      "cell_type": "code",
      "metadata": {
        "id": "3FdfbASaTB3q"
      },
      "source": [
        "auth.authenticate_user()\n",
        "gauth = GoogleAuth()\n",
        "gauth.credentials = GoogleCredentials.get_application_default()\n",
        "drive = GoogleDrive(gauth)"
      ],
      "execution_count": null,
      "outputs": []
    },
    {
      "cell_type": "code",
      "metadata": {
        "id": "XBlg9oSqTDhg"
      },
      "source": [
        "id_train_labels = '1o8fEed65R8219m5iOJoZgvHXaTGwWE4H'\n",
        "id_train_values = \"1RCoa3FWbpcHVC6imhaQQFQEAWNW0qkh0\" \n",
        "id_test_values = '1xBGPZbt3BYxe1OOYGMJuGnXe_pEqFZ1a'\n",
        "id_submission_format = \"1ei8BhsAAhZpZ8sRqEOVGl12y0JAPdXGV\"\n",
        "\n",
        "downloaded_train_labels = drive.CreateFile({'id': id_train_labels})\n",
        "downloaded_train_values = drive.CreateFile({'id': id_train_values})\n",
        "downloaded_test_values = drive.CreateFile({'id': id_test_values})\n",
        "downloaded_submission_format = drive.CreateFile({'id': id_submission_format})\n",
        "\n",
        "downloaded_train_labels.GetContentFile('train_labels.csv')\n",
        "downloaded_train_values.GetContentFile('train_values.csv')\n",
        "downloaded_test_values.GetContentFile('test_values.csv')\n",
        "downloaded_submission_format.GetContentFile('submission_format.csv')"
      ],
      "execution_count": null,
      "outputs": []
    },
    {
      "cell_type": "code",
      "metadata": {
        "id": "kw2_pIslTFSa"
      },
      "source": [
        "train_values = pd.read_csv('train_values.csv', dtype={\n",
        "    'building_id': 'int64', 'geo_level_1_id': 'int64',\n",
        "    'geo_level_2_id': 'int64', 'geo_level_3_id': 'int64',\n",
        "    'count_floors_pre_eq': 'int8', 'age': 'int32',\n",
        "    'area_percentage': 'int32', 'height_percentage': 'int32',\n",
        "    'land_surface_condition': 'category', 'foundation_type': 'category',\n",
        "    'roof_type': 'category', 'ground_floor_type': 'category', 'other_floor_type': 'category',\n",
        "    'position': 'category', 'plan_configuration': 'category', 'has_superstructure_adobe_mud': 'int8',\n",
        "    'has_superstructure_mud_mortar_stone': 'int8', 'has_superstructure_stone_flag': 'int8',\n",
        "    'has_superstructure_cement_mortar_stone': 'int8', 'has_superstructure_mud_mortar_brick': 'int8',\n",
        "    'has_superstructure_cement_mortar_brick': 'int8', 'has_superstructure_timber': 'int8',\n",
        "    'has_superstructure_bamboo': 'int8', 'has_superstructure_rc_non_engineered': 'int8',\n",
        "    'has_superstructure_rc_engineered': 'int8', 'has_superstructure_other': 'int8',\n",
        "    'has_superstructure_other': 'int8', 'legal_ownership_status': 'category',\n",
        "    'has_secondary_use': 'bool', 'has_secondary_use_agriculture': 'bool',\n",
        "    'has_secondary_use_hotel': 'bool', 'has_secondary_use_rental': 'bool',\n",
        "    'has_secondary_use_institution': 'bool', 'has_secondary_use_school': 'bool',\n",
        "    'has_secondary_use_industry': 'bool', 'has_secondary_use_health_post': 'bool',\n",
        "    'has_secondary_use_gov_office': 'bool', 'has_secondary_use_use_police': 'bool',\n",
        "    'has_secondary_use_other': 'bool', 'count_families': 'int8'\n",
        "})\n",
        "train_labels = pd.read_csv('train_labels.csv', dtype={\n",
        "    'damage_grade': 'int16'\n",
        "})\n",
        "\n",
        "test_values = pd.read_csv('test_values.csv', dtype={\n",
        "    'building_id': 'int64', 'geo_level_1_id': 'int64',\n",
        "    'geo_level_2_id': 'int64', 'geo_level_3_id': 'int64',\n",
        "    'count_floors_pre_eq': 'int8', 'age': 'int32',\n",
        "    'area_percentage': 'int32', 'height_percentage': 'int32',\n",
        "    'land_surface_condition': 'category', 'foundation_type': 'category',\n",
        "    'roof_type': 'category', 'ground_floor_type': 'category', 'other_floor_type': 'category',\n",
        "    'position': 'category', 'plan_configuration': 'category', 'has_superstructure_adobe_mud': 'int8',\n",
        "    'has_superstructure_mud_mortar_stone': 'int8', 'has_superstructure_stone_flag': 'int8',\n",
        "    'has_superstructure_cement_mortar_stone': 'int8', 'has_superstructure_mud_mortar_brick': 'int8',\n",
        "    'has_superstructure_cement_mortar_brick': 'int8', 'has_superstructure_timber': 'int8',\n",
        "    'has_superstructure_bamboo': 'int8', 'has_superstructure_rc_non_engineered': 'int8',\n",
        "    'has_superstructure_rc_engineered': 'int8', 'has_superstructure_other': 'int8',\n",
        "    'has_superstructure_other': 'int8', 'legal_ownership_status': 'category',\n",
        "    'has_secondary_use': 'bool', 'has_secondary_use_agriculture': 'bool',\n",
        "    'has_secondary_use_hotel': 'bool', 'has_secondary_use_rental': 'bool',\n",
        "    'has_secondary_use_institution': 'bool', 'has_secondary_use_school': 'bool',\n",
        "    'has_secondary_use_industry': 'bool', 'has_secondary_use_health_post': 'bool',\n",
        "    'has_secondary_use_gov_office': 'bool', 'has_secondary_use_use_police': 'bool',\n",
        "    'has_secondary_use_other': 'bool', 'count_families': 'int8'\n",
        "})"
      ],
      "execution_count": null,
      "outputs": []
    },
    {
      "cell_type": "code",
      "metadata": {
        "id": "n6Vh4k9jTT2Q"
      },
      "source": [
        "labels_and_values = pd.merge(train_labels, train_values, how='inner', on='building_id')"
      ],
      "execution_count": null,
      "outputs": []
    },
    {
      "cell_type": "markdown",
      "metadata": {
        "id": "doZ-sAK2TZjH"
      },
      "source": [
        "##Encodeamos con one hot"
      ]
    },
    {
      "cell_type": "code",
      "metadata": {
        "id": "aErPpmuPTWtq"
      },
      "source": [
        "test_values = pd.get_dummies(test_values, columns=['land_surface_condition'], drop_first=True)\n",
        "test_values = pd.get_dummies(test_values, columns=['foundation_type'],drop_first=True)\n",
        "test_values = pd.get_dummies(test_values, columns=['roof_type'],drop_first=True)\n",
        "test_values = pd.get_dummies(test_values, columns=['ground_floor_type'],drop_first=True)\n",
        "test_values = pd.get_dummies(test_values, columns=['plan_configuration'],drop_first=True)\n",
        "test_values = pd.get_dummies(test_values, columns=['position'],drop_first=True)"
      ],
      "execution_count": null,
      "outputs": []
    },
    {
      "cell_type": "code",
      "metadata": {
        "id": "YDPoxNxOTdqy"
      },
      "source": [
        "labels_and_values = pd.get_dummies(labels_and_values, columns=['land_surface_condition'], drop_first=True)\n",
        "labels_and_values = pd.get_dummies(labels_and_values, columns=['foundation_type'],drop_first=True)\n",
        "labels_and_values = pd.get_dummies(labels_and_values, columns=['roof_type'],drop_first=True)\n",
        "labels_and_values = pd.get_dummies(labels_and_values, columns=['ground_floor_type'],drop_first=True)\n",
        "labels_and_values = pd.get_dummies(labels_and_values, columns=['plan_configuration'],drop_first=True)\n",
        "labels_and_values = pd.get_dummies(labels_and_values, columns=['position'],drop_first=True)"
      ],
      "execution_count": null,
      "outputs": []
    },
    {
      "cell_type": "code",
      "metadata": {
        "id": "Zy80FrERTfhu"
      },
      "source": [
        "data = labels_and_values.loc[labels_and_values[\"age\"] <995] #Acá hacemos filtrado"
      ],
      "execution_count": null,
      "outputs": []
    },
    {
      "cell_type": "code",
      "metadata": {
        "id": "eWv5GBJ9TkQ2"
      },
      "source": [
        "features = data[['geo_level_1_id','geo_level_2_id','geo_level_3_id','area_percentage','age',\"height_percentage\",'has_superstructure_adobe_mud',\n",
        "    'has_superstructure_mud_mortar_stone', 'has_superstructure_stone_flag','has_superstructure_cement_mortar_stone', 'has_superstructure_mud_mortar_brick',\n",
        "    'has_superstructure_cement_mortar_brick', 'has_superstructure_timber','has_superstructure_bamboo', 'has_superstructure_rc_non_engineered',\n",
        "    'has_superstructure_rc_engineered', 'has_superstructure_other',\t\"land_surface_condition_o\",\t\"land_surface_condition_t\",\n",
        "    \"foundation_type_i\",\"foundation_type_r\",\t\"foundation_type_u\",\"foundation_type_w\",\t\"roof_type_q\",\t\"roof_type_x\",\t\"ground_floor_type_m\",\n",
        "    \"ground_floor_type_v\",\"ground_floor_type_x\",\t\"ground_floor_type_z\"]]"
      ],
      "execution_count": null,
      "outputs": []
    },
    {
      "cell_type": "code",
      "metadata": {
        "id": "jl_n1DbFTnu8"
      },
      "source": [
        "test_values_features = test_values[['geo_level_1_id','geo_level_2_id','geo_level_3_id','area_percentage','age',\"height_percentage\",'has_superstructure_adobe_mud',\n",
        "    'has_superstructure_mud_mortar_stone', 'has_superstructure_stone_flag','has_superstructure_cement_mortar_stone', 'has_superstructure_mud_mortar_brick',\n",
        "    'has_superstructure_cement_mortar_brick', 'has_superstructure_timber','has_superstructure_bamboo', 'has_superstructure_rc_non_engineered',\n",
        "    'has_superstructure_rc_engineered', 'has_superstructure_other',\"land_surface_condition_o\",\t\"land_surface_condition_t\",\n",
        "    \"foundation_type_i\",\"foundation_type_r\",\t\"foundation_type_u\",\"foundation_type_w\",\t\"roof_type_q\",\t\"roof_type_x\",\t\"ground_floor_type_m\",\n",
        "    \"ground_floor_type_v\",\"ground_floor_type_x\",\t\"ground_floor_type_z\"]]"
      ],
      "execution_count": null,
      "outputs": []
    },
    {
      "cell_type": "code",
      "metadata": {
        "id": "LpwI8heTTpZL"
      },
      "source": [
        "prediction = data['damage_grade']"
      ],
      "execution_count": null,
      "outputs": []
    },
    {
      "cell_type": "code",
      "metadata": {
        "id": "m-EC76UKTqtK"
      },
      "source": [
        "X_train, X_test, y_train, y_test = train_test_split(features, prediction, test_size=0.2, random_state=0)"
      ],
      "execution_count": null,
      "outputs": []
    },
    {
      "cell_type": "code",
      "metadata": {
        "id": "ZIetAL9ATsHM"
      },
      "source": [
        "modelo_RF = RandomForestClassifier(random_state=1, n_estimators=100)\n",
        "modelo_RF.fit(X_train, y_train) #entrenamos el modelo\n",
        "prediccion = modelo_RF.predict(X_test)"
      ],
      "execution_count": null,
      "outputs": []
    },
    {
      "cell_type": "code",
      "metadata": {
        "id": "kQTUjY5eTtb9"
      },
      "source": [
        "prediccion_test_values = modelo_RF.predict(test_values_features)"
      ],
      "execution_count": null,
      "outputs": []
    },
    {
      "cell_type": "code",
      "metadata": {
        "colab": {
          "base_uri": "https://localhost:8080/"
        },
        "id": "aveQm17oTuyG",
        "outputId": "33eef73f-e206-48a3-fd0f-1e64fd767b4c"
      },
      "source": [
        "f1_score(prediccion, y_test, average='micro') #es la precision"
      ],
      "execution_count": null,
      "outputs": [
        {
          "output_type": "execute_result",
          "data": {
            "text/plain": [
              "0.7175510676465481"
            ]
          },
          "metadata": {
            "tags": []
          },
          "execution_count": 17
        }
      ]
    },
    {
      "cell_type": "code",
      "metadata": {
        "id": "yoY43iI4TwRa"
      },
      "source": [
        "plt.subplots(figsize=(20,15))\n",
        "plt.bar(X_train.columns, modelo_RF.feature_importances_)\n",
        "plt.xlabel('Features')\n",
        "plt.ylabel('Importancia')\n",
        "plt.title('Importancia de Features elegidos RF con One Hot Encoding')\n",
        "plt.xticks(rotation=90)\n",
        "\n",
        "plt.show()"
      ],
      "execution_count": null,
      "outputs": []
    }
  ]
}