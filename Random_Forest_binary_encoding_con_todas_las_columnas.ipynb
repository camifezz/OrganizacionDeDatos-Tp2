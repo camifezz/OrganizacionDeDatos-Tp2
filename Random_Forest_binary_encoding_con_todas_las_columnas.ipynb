{
  "nbformat": 4,
  "nbformat_minor": 0,
  "metadata": {
    "colab": {
      "name": "Random Forest binary encoding con todas las columnas.ipynb",
      "provenance": [],
      "collapsed_sections": [
        "aRVz2GMEfeys"
      ],
      "authorship_tag": "ABX9TyM8YHoki96W0MBOSgfU96si",
      "include_colab_link": true
    },
    "kernelspec": {
      "name": "python3",
      "display_name": "Python 3"
    },
    "language_info": {
      "name": "python"
    }
  },
  "cells": [
    {
      "cell_type": "markdown",
      "metadata": {
        "id": "view-in-github",
        "colab_type": "text"
      },
      "source": [
        "<a href=\"https://colab.research.google.com/github/camifezz/OrganizacionDeDatos-Tp2/blob/main/Random_Forest_binary_encoding_con_todas_las_columnas.ipynb\" target=\"_parent\"><img src=\"https://colab.research.google.com/assets/colab-badge.svg\" alt=\"Open In Colab\"/></a>"
      ]
    },
    {
      "cell_type": "markdown",
      "metadata": {
        "id": "aRVz2GMEfeys"
      },
      "source": [
        "##Instalación de librerias"
      ]
    },
    {
      "cell_type": "code",
      "metadata": {
        "id": "_6w0DSsiarI0"
      },
      "source": [
        "!pip install PyDrive"
      ],
      "execution_count": null,
      "outputs": []
    },
    {
      "cell_type": "code",
      "metadata": {
        "id": "U1sVYhQPHuYo"
      },
      "source": [
        "pip install --upgrade category_encoders"
      ],
      "execution_count": null,
      "outputs": []
    },
    {
      "cell_type": "code",
      "metadata": {
        "id": "Npy0TnQta0VC",
        "colab": {
          "base_uri": "https://localhost:8080/"
        },
        "outputId": "22ad462f-ba1f-4b90-a6f1-c85310009355"
      },
      "source": [
        "from pydrive.auth import GoogleAuth\n",
        "from pydrive.drive import GoogleDrive\n",
        "from google.colab import auth\n",
        "from oauth2client.client import GoogleCredentials\n",
        "\n",
        "import pandas as pd\n",
        "import numpy as np\n",
        "import matplotlib.pyplot as plt\n",
        "import seaborn as sns\n",
        "\n",
        "from sklearn.model_selection import train_test_split\n",
        "from sklearn.metrics import f1_score \n",
        "from sklearn.ensemble import RandomForestClassifier\n",
        "from sklearn.metrics import mean_squared_error\n",
        "import category_encoders as ce\n",
        "\n",
        "from google.colab import files"
      ],
      "execution_count": 3,
      "outputs": [
        {
          "output_type": "stream",
          "text": [
            "/usr/local/lib/python3.7/dist-packages/statsmodels/tools/_testing.py:19: FutureWarning: pandas.util.testing is deprecated. Use the functions in the public API at pandas.testing instead.\n",
            "  import pandas.util.testing as tm\n"
          ],
          "name": "stderr"
        }
      ]
    },
    {
      "cell_type": "code",
      "metadata": {
        "id": "rzpH14XPa179"
      },
      "source": [
        "auth.authenticate_user()\n",
        "gauth = GoogleAuth()\n",
        "gauth.credentials = GoogleCredentials.get_application_default()\n",
        "drive = GoogleDrive(gauth)"
      ],
      "execution_count": 4,
      "outputs": []
    },
    {
      "cell_type": "code",
      "metadata": {
        "id": "rMqg2s2qa3kE"
      },
      "source": [
        "id_train_labels = '1o8fEed65R8219m5iOJoZgvHXaTGwWE4H'\n",
        "id_train_values = \"1RCoa3FWbpcHVC6imhaQQFQEAWNW0qkh0\" \n",
        "id_test_values = '1xBGPZbt3BYxe1OOYGMJuGnXe_pEqFZ1a'\n",
        "id_submission_format = \"1ei8BhsAAhZpZ8sRqEOVGl12y0JAPdXGV\"\n",
        "\n",
        "downloaded_train_labels = drive.CreateFile({'id': id_train_labels})\n",
        "downloaded_train_values = drive.CreateFile({'id': id_train_values})\n",
        "downloaded_test_values = drive.CreateFile({'id': id_test_values})\n",
        "downloaded_submission_format = drive.CreateFile({'id': id_submission_format})\n",
        "\n",
        "downloaded_train_labels.GetContentFile('train_labels.csv')\n",
        "downloaded_train_values.GetContentFile('train_values.csv')\n",
        "downloaded_test_values.GetContentFile('test_values.csv')\n",
        "downloaded_submission_format.GetContentFile('submission_format.csv')"
      ],
      "execution_count": 5,
      "outputs": []
    },
    {
      "cell_type": "code",
      "metadata": {
        "id": "U-Ja_vrSa5nx"
      },
      "source": [
        "train_values = pd.read_csv('train_values.csv', dtype={\n",
        "    'building_id': 'int64', 'geo_level_1_id': 'int64',\n",
        "    'geo_level_2_id': 'int64', 'geo_level_3_id': 'int64',\n",
        "    'count_floors_pre_eq': 'int8', 'age': 'int32',\n",
        "    'area_percentage': 'int32', 'height_percentage': 'int32',\n",
        "    'land_surface_condition': 'category', 'foundation_type': 'category',\n",
        "    'roof_type': 'category', 'ground_floor_type': 'category', 'other_floor_type': 'category',\n",
        "    'position': 'category', 'plan_configuration': 'category', 'has_superstructure_adobe_mud': 'int8',\n",
        "    'has_superstructure_mud_mortar_stone': 'int8', 'has_superstructure_stone_flag': 'int8',\n",
        "    'has_superstructure_cement_mortar_stone': 'int8', 'has_superstructure_mud_mortar_brick': 'int8',\n",
        "    'has_superstructure_cement_mortar_brick': 'int8', 'has_superstructure_timber': 'int8',\n",
        "    'has_superstructure_bamboo': 'int8', 'has_superstructure_rc_non_engineered': 'int8',\n",
        "    'has_superstructure_rc_engineered': 'int8', 'has_superstructure_other': 'int8',\n",
        "    'has_superstructure_other': 'int8', 'legal_ownership_status': 'category',\n",
        "    'has_secondary_use': 'bool', 'has_secondary_use_agriculture': 'bool',\n",
        "    'has_secondary_use_hotel': 'bool', 'has_secondary_use_rental': 'bool',\n",
        "    'has_secondary_use_institution': 'bool', 'has_secondary_use_school': 'bool',\n",
        "    'has_secondary_use_industry': 'bool', 'has_secondary_use_health_post': 'bool',\n",
        "    'has_secondary_use_gov_office': 'bool', 'has_secondary_use_use_police': 'bool',\n",
        "    'has_secondary_use_other': 'bool', 'count_families': 'int8'\n",
        "})\n",
        "train_labels = pd.read_csv('train_labels.csv', dtype={\n",
        "    'damage_grade': 'int16'\n",
        "})\n",
        "\n",
        "test_values = pd.read_csv('test_values.csv', dtype={\n",
        "    'building_id': 'int64', 'geo_level_1_id': 'int64',\n",
        "    'geo_level_2_id': 'int64', 'geo_level_3_id': 'int64',\n",
        "    'count_floors_pre_eq': 'int8', 'age': 'int32',\n",
        "    'area_percentage': 'int32', 'height_percentage': 'int32',\n",
        "    'land_surface_condition': 'category', 'foundation_type': 'category',\n",
        "    'roof_type': 'category', 'ground_floor_type': 'category', 'other_floor_type': 'category',\n",
        "    'position': 'category', 'plan_configuration': 'category', 'has_superstructure_adobe_mud': 'int8',\n",
        "    'has_superstructure_mud_mortar_stone': 'int8', 'has_superstructure_stone_flag': 'int8',\n",
        "    'has_superstructure_cement_mortar_stone': 'int8', 'has_superstructure_mud_mortar_brick': 'int8',\n",
        "    'has_superstructure_cement_mortar_brick': 'int8', 'has_superstructure_timber': 'int8',\n",
        "    'has_superstructure_bamboo': 'int8', 'has_superstructure_rc_non_engineered': 'int8',\n",
        "    'has_superstructure_rc_engineered': 'int8', 'has_superstructure_other': 'int8',\n",
        "    'has_superstructure_other': 'int8', 'legal_ownership_status': 'category',\n",
        "    'has_secondary_use': 'bool', 'has_secondary_use_agriculture': 'bool',\n",
        "    'has_secondary_use_hotel': 'bool', 'has_secondary_use_rental': 'bool',\n",
        "    'has_secondary_use_institution': 'bool', 'has_secondary_use_school': 'bool',\n",
        "    'has_secondary_use_industry': 'bool', 'has_secondary_use_health_post': 'bool',\n",
        "    'has_secondary_use_gov_office': 'bool', 'has_secondary_use_use_police': 'bool',\n",
        "    'has_secondary_use_other': 'bool', 'count_families': 'int8'\n",
        "})"
      ],
      "execution_count": 6,
      "outputs": []
    },
    {
      "cell_type": "code",
      "metadata": {
        "id": "tp7bvbB6a_Ej"
      },
      "source": [
        "labels_and_values = pd.merge(train_labels, train_values, how='inner', on='building_id')"
      ],
      "execution_count": 7,
      "outputs": []
    },
    {
      "cell_type": "code",
      "metadata": {
        "id": "69iow-nEHHB0"
      },
      "source": [
        "data = labels_and_values.loc[labels_and_values[\"age\"] <995]"
      ],
      "execution_count": 9,
      "outputs": []
    },
    {
      "cell_type": "code",
      "metadata": {
        "id": "7oJxyWTebqfV"
      },
      "source": [
        "prediction = data['damage_grade']"
      ],
      "execution_count": 10,
      "outputs": []
    },
    {
      "cell_type": "markdown",
      "metadata": {
        "id": "isoSarkrflfZ"
      },
      "source": [
        "\n",
        "\n",
        "\n",
        "\n",
        "##Binary encoding con todas las cols"
      ]
    },
    {
      "cell_type": "code",
      "metadata": {
        "id": "GWUFnC7Nbeyh"
      },
      "source": [
        "encoder= ce.BinaryEncoder(cols=['land_surface_condition','foundation_type','roof_type','ground_floor_type','position',\"other_floor_type\",\"plan_configuration\"],return_df=True)"
      ],
      "execution_count": 11,
      "outputs": []
    },
    {
      "cell_type": "code",
      "metadata": {
        "colab": {
          "base_uri": "https://localhost:8080/"
        },
        "id": "hMNGY1T3Hykl",
        "outputId": "1ad77ca2-2f4a-4842-e0cb-6f4b15b551d4"
      },
      "source": [
        "data_encoded=encoder.fit_transform(data) "
      ],
      "execution_count": 12,
      "outputs": [
        {
          "output_type": "stream",
          "text": [
            "/usr/local/lib/python3.7/dist-packages/category_encoders/utils.py:21: FutureWarning: is_categorical is deprecated and will be removed in a future version.  Use is_categorical_dtype instead\n",
            "  elif pd.api.types.is_categorical(cols):\n"
          ],
          "name": "stderr"
        }
      ]
    },
    {
      "cell_type": "code",
      "metadata": {
        "colab": {
          "base_uri": "https://localhost:8080/"
        },
        "id": "U_N7TGbFKbaL",
        "outputId": "a631e54a-7606-43d2-f324-3f28a198909c"
      },
      "source": [
        "data_encoded_test=encoder.fit_transform(test_values) "
      ],
      "execution_count": null,
      "outputs": [
        {
          "output_type": "stream",
          "text": [
            "/usr/local/lib/python3.7/dist-packages/category_encoders/utils.py:21: FutureWarning: is_categorical is deprecated and will be removed in a future version.  Use is_categorical_dtype instead\n",
            "  elif pd.api.types.is_categorical(cols):\n"
          ],
          "name": "stderr"
        }
      ]
    },
    {
      "cell_type": "code",
      "metadata": {
        "id": "m7XT9PnZIH6y"
      },
      "source": [
        "data_encoded"
      ],
      "execution_count": null,
      "outputs": []
    },
    {
      "cell_type": "code",
      "metadata": {
        "id": "B5KAmMTiH7aC"
      },
      "source": [
        "features = data_encoded[['geo_level_1_id',\n",
        "    'geo_level_2_id', 'geo_level_3_id','area_percentage','age',\"height_percentage\",'has_superstructure_adobe_mud',\n",
        "    'has_superstructure_mud_mortar_stone', 'has_superstructure_stone_flag','has_superstructure_cement_mortar_stone', 'has_superstructure_mud_mortar_brick',\n",
        "    'has_superstructure_cement_mortar_brick', 'has_superstructure_timber','has_superstructure_bamboo', 'has_superstructure_rc_non_engineered',\n",
        "    'has_superstructure_rc_engineered', 'has_superstructure_other',\"land_surface_condition_0\",\t\"land_surface_condition_1\",\t\"land_surface_condition_2\",\n",
        "    \t\"foundation_type_0\",\t\"foundation_type_1\",\t\"foundation_type_2\",\t\"foundation_type_3\",\t\"roof_type_0\",\t\"roof_type_1\",\t\"roof_type_2\"\t,\n",
        "      \"ground_floor_type_0\",\t\"ground_floor_type_1\",\t\"ground_floor_type_2\",\t\"ground_floor_type_3\",\t\n",
        "      \t\"position_0\",\t\"position_1\",\t\"position_2\",\"other_floor_type_0\",\t\"other_floor_type_1\",\t\"other_floor_type_2\",\n",
        "        \"plan_configuration_0\",\t\"plan_configuration_1\",\t\"plan_configuration_2\",\t\"plan_configuration_3\",\t\"plan_configuration_4\"\n",
        "        ]]"
      ],
      "execution_count": 14,
      "outputs": []
    },
    {
      "cell_type": "code",
      "metadata": {
        "id": "vjYZz3INKtPA"
      },
      "source": [
        "features_test_values = data_encoded_test[['geo_level_1_id',\n",
        "    'geo_level_2_id', 'geo_level_3_id','area_percentage','age',\"height_percentage\",'has_superstructure_adobe_mud',\n",
        "    'has_superstructure_mud_mortar_stone', 'has_superstructure_stone_flag','has_superstructure_cement_mortar_stone', 'has_superstructure_mud_mortar_brick',\n",
        "    'has_superstructure_cement_mortar_brick', 'has_superstructure_timber','has_superstructure_bamboo', 'has_superstructure_rc_non_engineered',\n",
        "    'has_superstructure_rc_engineered', 'has_superstructure_other',\"land_surface_condition_0\",\t\"land_surface_condition_1\",\t\"land_surface_condition_2\",\n",
        "    \t\"foundation_type_0\",\t\"foundation_type_1\",\t\"foundation_type_2\",\t\"foundation_type_3\",\t\"roof_type_0\",\t\"roof_type_1\",\t\"roof_type_2\"\t,\n",
        "      \"ground_floor_type_0\",\t\"ground_floor_type_1\",\t\"ground_floor_type_2\",\t\"ground_floor_type_3\",\t\n",
        "      \t\"position_0\",\t\"position_1\",\t\"position_2\",\"volume_percentage\",\"other_floor_type_0\",\t\"other_floor_type_1\",\t\"other_floor_type_2\",\n",
        "        \"plan_configuration_0\",\t\"plan_configuration_1\",\t\"plan_configuration_2\",\t\"plan_configuration_3\",\t\"plan_configuration_4\"\n",
        "        ]]"
      ],
      "execution_count": null,
      "outputs": []
    },
    {
      "cell_type": "code",
      "metadata": {
        "id": "3Rs7olwQbgzB"
      },
      "source": [
        "X_train, X_test, y_train, y_test = train_test_split(features, prediction, test_size=0.2, random_state=1)"
      ],
      "execution_count": 16,
      "outputs": []
    },
    {
      "cell_type": "code",
      "metadata": {
        "id": "75CI9hnybtvW"
      },
      "source": [
        "modelo_RF = RandomForestClassifier(random_state=1)\n",
        "modelo_RF.fit(X_train, y_train) #entrenamos el modelo\n",
        "prediccion = modelo_RF.predict(X_test)"
      ],
      "execution_count": 17,
      "outputs": []
    },
    {
      "cell_type": "code",
      "metadata": {
        "id": "aBLvnWFnb5K0"
      },
      "source": [
        "prediccion_test_values = modelo_RF.predict(features_test_values)"
      ],
      "execution_count": null,
      "outputs": []
    },
    {
      "cell_type": "code",
      "metadata": {
        "colab": {
          "base_uri": "https://localhost:8080/"
        },
        "id": "VS3YEVQrcGqt",
        "outputId": "16539e98-3264-4f2e-cec1-4a6ff67882cf"
      },
      "source": [
        "f1_score(prediccion, y_test, average='micro')"
      ],
      "execution_count": 18,
      "outputs": [
        {
          "output_type": "execute_result",
          "data": {
            "text/plain": [
              "0.7112821403082383"
            ]
          },
          "metadata": {
            "tags": []
          },
          "execution_count": 18
        }
      ]
    },
    {
      "cell_type": "code",
      "metadata": {
        "id": "iWjPVFz8BRkH"
      },
      "source": [
        "plt.subplots(figsize=(20,15))\n",
        "plt.bar(X_train.columns, modelo_RF.feature_importances_, color=\"grey\")\n",
        "plt.xlabel('Features')\n",
        "plt.ylabel('Importancia')\n",
        "plt.title('Importancia de Features RF Binary Encoding')\n",
        "plt.xticks(rotation=90)\n",
        "\n",
        "plt.show()"
      ],
      "execution_count": null,
      "outputs": []
    },
    {
      "cell_type": "code",
      "metadata": {
        "id": "qWLGa7YuK5dP"
      },
      "source": [
        "submission_format = pd.read_csv('submission_format.csv', index_col='building_id')"
      ],
      "execution_count": 27,
      "outputs": []
    },
    {
      "cell_type": "code",
      "metadata": {
        "id": "3M8L0MhcK8S4"
      },
      "source": [
        "my_submission = pd.DataFrame(data = prediccion_test_values,\n",
        "                             columns=submission_format.columns,\n",
        "                             index=submission_format.index)"
      ],
      "execution_count": null,
      "outputs": []
    },
    {
      "cell_type": "code",
      "metadata": {
        "id": "CvA8_bn0K_Nl"
      },
      "source": [
        "my_submission.to_csv('submission.csv')"
      ],
      "execution_count": null,
      "outputs": []
    },
    {
      "cell_type": "code",
      "metadata": {
        "colab": {
          "base_uri": "https://localhost:8080/",
          "height": 17
        },
        "id": "ueBHxzmlLA94",
        "outputId": "5abc24f9-d452-4bef-e735-bb32fff8a9da"
      },
      "source": [
        "files.download(\"submission.csv\")"
      ],
      "execution_count": null,
      "outputs": [
        {
          "output_type": "display_data",
          "data": {
            "application/javascript": [
              "\n",
              "    async function download(id, filename, size) {\n",
              "      if (!google.colab.kernel.accessAllowed) {\n",
              "        return;\n",
              "      }\n",
              "      const div = document.createElement('div');\n",
              "      const label = document.createElement('label');\n",
              "      label.textContent = `Downloading \"${filename}\": `;\n",
              "      div.appendChild(label);\n",
              "      const progress = document.createElement('progress');\n",
              "      progress.max = size;\n",
              "      div.appendChild(progress);\n",
              "      document.body.appendChild(div);\n",
              "\n",
              "      const buffers = [];\n",
              "      let downloaded = 0;\n",
              "\n",
              "      const channel = await google.colab.kernel.comms.open(id);\n",
              "      // Send a message to notify the kernel that we're ready.\n",
              "      channel.send({})\n",
              "\n",
              "      for await (const message of channel.messages) {\n",
              "        // Send a message to notify the kernel that we're ready.\n",
              "        channel.send({})\n",
              "        if (message.buffers) {\n",
              "          for (const buffer of message.buffers) {\n",
              "            buffers.push(buffer);\n",
              "            downloaded += buffer.byteLength;\n",
              "            progress.value = downloaded;\n",
              "          }\n",
              "        }\n",
              "      }\n",
              "      const blob = new Blob(buffers, {type: 'application/binary'});\n",
              "      const a = document.createElement('a');\n",
              "      a.href = window.URL.createObjectURL(blob);\n",
              "      a.download = filename;\n",
              "      div.appendChild(a);\n",
              "      a.click();\n",
              "      div.remove();\n",
              "    }\n",
              "  "
            ],
            "text/plain": [
              "<IPython.core.display.Javascript object>"
            ]
          },
          "metadata": {
            "tags": []
          }
        },
        {
          "output_type": "display_data",
          "data": {
            "application/javascript": [
              "download(\"download_cbb1381c-4fb5-47db-87bb-52ebd800ceb9\", \"submission.csv\", 777012)"
            ],
            "text/plain": [
              "<IPython.core.display.Javascript object>"
            ]
          },
          "metadata": {
            "tags": []
          }
        }
      ]
    }
  ]
}