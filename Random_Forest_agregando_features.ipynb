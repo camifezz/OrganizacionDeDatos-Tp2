{
  "nbformat": 4,
  "nbformat_minor": 0,
  "metadata": {
    "colab": {
      "name": "Random Forest agregando features.ipynb",
      "provenance": [],
      "authorship_tag": "ABX9TyPpQxfsX2inq1WhXjRbnZ84",
      "include_colab_link": true
    },
    "kernelspec": {
      "name": "python3",
      "display_name": "Python 3"
    },
    "language_info": {
      "name": "python"
    }
  },
  "cells": [
    {
      "cell_type": "markdown",
      "metadata": {
        "id": "view-in-github",
        "colab_type": "text"
      },
      "source": [
        "<a href=\"https://colab.research.google.com/github/camifezz/OrganizacionDeDatos-Tp2/blob/main/Random_Forest_agregando_features.ipynb\" target=\"_parent\"><img src=\"https://colab.research.google.com/assets/colab-badge.svg\" alt=\"Open In Colab\"/></a>"
      ]
    },
    {
      "cell_type": "markdown",
      "metadata": {
        "id": "WG0bppednOus"
      },
      "source": [
        "##Instalamos librerias"
      ]
    },
    {
      "cell_type": "code",
      "metadata": {
        "id": "iLvFejAojWo1"
      },
      "source": [
        "!pip install PyDrive"
      ],
      "execution_count": null,
      "outputs": []
    },
    {
      "cell_type": "code",
      "metadata": {
        "id": "C2HHsVepmwFe"
      },
      "source": [
        "from pydrive.auth import GoogleAuth\n",
        "from pydrive.drive import GoogleDrive\n",
        "from google.colab import auth\n",
        "from oauth2client.client import GoogleCredentials\n",
        "\n",
        "import pandas as pd\n",
        "import numpy as np\n",
        "import matplotlib.pyplot as plt\n",
        "import seaborn as sns\n",
        "\n",
        "from sklearn.model_selection import train_test_split\n",
        "from sklearn.metrics import f1_score \n",
        "from sklearn.ensemble import RandomForestClassifier\n",
        "from sklearn.metrics import mean_squared_error\n",
        "\n",
        "\n",
        "from google.colab import files"
      ],
      "execution_count": null,
      "outputs": []
    },
    {
      "cell_type": "code",
      "metadata": {
        "id": "XBpdZZ2smzUr"
      },
      "source": [
        "auth.authenticate_user()\n",
        "gauth = GoogleAuth()\n",
        "gauth.credentials = GoogleCredentials.get_application_default()\n",
        "drive = GoogleDrive(gauth)"
      ],
      "execution_count": null,
      "outputs": []
    },
    {
      "cell_type": "code",
      "metadata": {
        "id": "ROJ-jNbxm1IU"
      },
      "source": [
        "id_train_labels = '1o8fEed65R8219m5iOJoZgvHXaTGwWE4H'\n",
        "id_train_values = \"1RCoa3FWbpcHVC6imhaQQFQEAWNW0qkh0\" \n",
        "id_test_values = '1xBGPZbt3BYxe1OOYGMJuGnXe_pEqFZ1a'\n",
        "id_submission_format = \"1ei8BhsAAhZpZ8sRqEOVGl12y0JAPdXGV\"\n",
        "\n",
        "downloaded_train_labels = drive.CreateFile({'id': id_train_labels})\n",
        "downloaded_train_values = drive.CreateFile({'id': id_train_values})\n",
        "downloaded_test_values = drive.CreateFile({'id': id_test_values})\n",
        "downloaded_submission_format = drive.CreateFile({'id': id_submission_format})\n",
        "\n",
        "downloaded_train_labels.GetContentFile('train_labels.csv')\n",
        "downloaded_train_values.GetContentFile('train_values.csv')\n",
        "downloaded_test_values.GetContentFile('test_values.csv')\n",
        "downloaded_submission_format.GetContentFile('submission_format.csv')"
      ],
      "execution_count": null,
      "outputs": []
    },
    {
      "cell_type": "code",
      "metadata": {
        "id": "dThZgmOam3DW"
      },
      "source": [
        "train_values = pd.read_csv('train_values.csv', dtype={\n",
        "    'building_id': 'int64', 'geo_level_1_id': 'int64',\n",
        "    'geo_level_2_id': 'int64', 'geo_level_3_id': 'int64',\n",
        "    'count_floors_pre_eq': 'int8', 'age': 'int32',\n",
        "    'area_percentage': 'int32', 'height_percentage': 'int32',\n",
        "    'land_surface_condition': 'category', 'foundation_type': 'category',\n",
        "    'roof_type': 'category', 'ground_floor_type': 'category', 'other_floor_type': 'category',\n",
        "    'position': 'category', 'plan_configuration': 'category', 'has_superstructure_adobe_mud': 'int8',\n",
        "    'has_superstructure_mud_mortar_stone': 'int8', 'has_superstructure_stone_flag': 'int8',\n",
        "    'has_superstructure_cement_mortar_stone': 'int8', 'has_superstructure_mud_mortar_brick': 'int8',\n",
        "    'has_superstructure_cement_mortar_brick': 'int8', 'has_superstructure_timber': 'int8',\n",
        "    'has_superstructure_bamboo': 'int8', 'has_superstructure_rc_non_engineered': 'int8',\n",
        "    'has_superstructure_rc_engineered': 'int8', 'has_superstructure_other': 'int8',\n",
        "    'has_superstructure_other': 'int8', 'legal_ownership_status': 'category',\n",
        "    'has_secondary_use': 'bool', 'has_secondary_use_agriculture': 'bool',\n",
        "    'has_secondary_use_hotel': 'bool', 'has_secondary_use_rental': 'bool',\n",
        "    'has_secondary_use_institution': 'bool', 'has_secondary_use_school': 'bool',\n",
        "    'has_secondary_use_industry': 'bool', 'has_secondary_use_health_post': 'bool',\n",
        "    'has_secondary_use_gov_office': 'bool', 'has_secondary_use_use_police': 'bool',\n",
        "    'has_secondary_use_other': 'bool', 'count_families': 'int8'\n",
        "})\n",
        "train_labels = pd.read_csv('train_labels.csv', dtype={\n",
        "    'damage_grade': 'int16'\n",
        "})\n",
        "\n",
        "test_values = pd.read_csv('test_values.csv', dtype={\n",
        "    'building_id': 'int64', 'geo_level_1_id': 'int64',\n",
        "    'geo_level_2_id': 'int64', 'geo_level_3_id': 'int64',\n",
        "    'count_floors_pre_eq': 'int8', 'age': 'int32',\n",
        "    'area_percentage': 'int32', 'height_percentage': 'int32',\n",
        "    'land_surface_condition': 'category', 'foundation_type': 'category',\n",
        "    'roof_type': 'category', 'ground_floor_type': 'category', 'other_floor_type': 'category',\n",
        "    'position': 'category', 'plan_configuration': 'category', 'has_superstructure_adobe_mud': 'int8',\n",
        "    'has_superstructure_mud_mortar_stone': 'int8', 'has_superstructure_stone_flag': 'int8',\n",
        "    'has_superstructure_cement_mortar_stone': 'int8', 'has_superstructure_mud_mortar_brick': 'int8',\n",
        "    'has_superstructure_cement_mortar_brick': 'int8', 'has_superstructure_timber': 'int8',\n",
        "    'has_superstructure_bamboo': 'int8', 'has_superstructure_rc_non_engineered': 'int8',\n",
        "    'has_superstructure_rc_engineered': 'int8', 'has_superstructure_other': 'int8',\n",
        "    'has_superstructure_other': 'int8', 'legal_ownership_status': 'category',\n",
        "    'has_secondary_use': 'bool', 'has_secondary_use_agriculture': 'bool',\n",
        "    'has_secondary_use_hotel': 'bool', 'has_secondary_use_rental': 'bool',\n",
        "    'has_secondary_use_institution': 'bool', 'has_secondary_use_school': 'bool',\n",
        "    'has_secondary_use_industry': 'bool', 'has_secondary_use_health_post': 'bool',\n",
        "    'has_secondary_use_gov_office': 'bool', 'has_secondary_use_use_police': 'bool',\n",
        "    'has_secondary_use_other': 'bool', 'count_families': 'int8'\n",
        "})"
      ],
      "execution_count": null,
      "outputs": []
    },
    {
      "cell_type": "code",
      "metadata": {
        "id": "I53M-jVGm45z"
      },
      "source": [
        "labels_and_values = pd.merge(train_labels, train_values, how='inner', on='building_id')"
      ],
      "execution_count": null,
      "outputs": []
    },
    {
      "cell_type": "markdown",
      "metadata": {
        "id": "lZv6l5tVm8vV"
      },
      "source": [
        "Agregamos el feature \"volume_porcentage\" que representa el volumen de la edificación"
      ]
    },
    {
      "cell_type": "code",
      "metadata": {
        "id": "TO24i_FAm6u9"
      },
      "source": [
        "labels_and_values[\"volume_percentage\"] = labels_and_values['area_percentage']* labels_and_values['height_percentage']"
      ],
      "execution_count": null,
      "outputs": []
    },
    {
      "cell_type": "code",
      "metadata": {
        "id": "BA5CE5oqnH_l"
      },
      "source": [
        "test_values[\"volume_percentage\"] = labels_and_values['area_percentage']* labels_and_values['height_percentage']"
      ],
      "execution_count": null,
      "outputs": []
    },
    {
      "cell_type": "code",
      "metadata": {
        "id": "r9w2o0PonKO7"
      },
      "source": [
        "data = labels_and_values.loc[labels_and_values[\"age\"] <995]"
      ],
      "execution_count": null,
      "outputs": []
    },
    {
      "cell_type": "code",
      "metadata": {
        "id": "40eHawZunMRL"
      },
      "source": [
        "prediction = data['damage_grade']"
      ],
      "execution_count": null,
      "outputs": []
    }
  ]
}