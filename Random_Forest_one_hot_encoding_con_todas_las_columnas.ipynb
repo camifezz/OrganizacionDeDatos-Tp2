{
  "nbformat": 4,
  "nbformat_minor": 0,
  "metadata": {
    "colab": {
      "name": "Random Forest one hot encoding con todas las columnas.ipynb",
      "provenance": [],
      "collapsed_sections": [
        "M9KixmvpPSgJ",
        "IPs65kgVYdle"
      ],
      "authorship_tag": "ABX9TyOSYMHq4HLCX8j4HTcmP2Rl",
      "include_colab_link": true
    },
    "kernelspec": {
      "name": "python3",
      "display_name": "Python 3"
    },
    "language_info": {
      "name": "python"
    }
  },
  "cells": [
    {
      "cell_type": "markdown",
      "metadata": {
        "id": "view-in-github",
        "colab_type": "text"
      },
      "source": [
        "<a href=\"https://colab.research.google.com/github/camifezz/OrganizacionDeDatos-Tp2/blob/main/Random_Forest_one_hot_encoding_con_todas_las_columnas.ipynb\" target=\"_parent\"><img src=\"https://colab.research.google.com/assets/colab-badge.svg\" alt=\"Open In Colab\"/></a>"
      ]
    },
    {
      "cell_type": "markdown",
      "metadata": {
        "id": "Q8KHcG8gDGmV"
      },
      "source": [
        "##Instalación de librerias"
      ]
    },
    {
      "cell_type": "code",
      "metadata": {
        "id": "nEC1glLMAmqk"
      },
      "source": [
        "!pip install PyDrive"
      ],
      "execution_count": null,
      "outputs": []
    },
    {
      "cell_type": "code",
      "metadata": {
        "id": "AZ9nNYzLAyMb",
        "colab": {
          "base_uri": "https://localhost:8080/"
        },
        "outputId": "cbfd349a-105c-4307-e1c7-705504e0512e"
      },
      "source": [
        "from pydrive.auth import GoogleAuth\n",
        "from pydrive.drive import GoogleDrive\n",
        "from google.colab import auth\n",
        "from oauth2client.client import GoogleCredentials\n",
        "\n",
        "import pandas as pd\n",
        "import numpy as np\n",
        "import matplotlib.pyplot as plt\n",
        "import seaborn as sns\n",
        "\n",
        "from sklearn.model_selection import train_test_split\n",
        "from sklearn.metrics import f1_score \n",
        "from sklearn.ensemble import RandomForestClassifier\n",
        "from sklearn.metrics import mean_squared_error\n",
        "import category_encoders as ce\n",
        "\n",
        "from google.colab import files"
      ],
      "execution_count": null,
      "outputs": [
        {
          "output_type": "stream",
          "text": [
            "/usr/local/lib/python3.7/dist-packages/statsmodels/tools/_testing.py:19: FutureWarning: pandas.util.testing is deprecated. Use the functions in the public API at pandas.testing instead.\n",
            "  import pandas.util.testing as tm\n"
          ],
          "name": "stderr"
        }
      ]
    },
    {
      "cell_type": "code",
      "metadata": {
        "id": "r82cMaoyBIHz"
      },
      "source": [
        "auth.authenticate_user()\n",
        "gauth = GoogleAuth()\n",
        "gauth.credentials = GoogleCredentials.get_application_default()\n",
        "drive = GoogleDrive(gauth)"
      ],
      "execution_count": null,
      "outputs": []
    },
    {
      "cell_type": "code",
      "metadata": {
        "id": "edZs5aZtBVjx"
      },
      "source": [
        "id_train_labels = '1o8fEed65R8219m5iOJoZgvHXaTGwWE4H'\n",
        "id_train_values = \"1RCoa3FWbpcHVC6imhaQQFQEAWNW0qkh0\" \n",
        "id_test_values = '1xBGPZbt3BYxe1OOYGMJuGnXe_pEqFZ1a'\n",
        "id_submission_format = \"1ei8BhsAAhZpZ8sRqEOVGl12y0JAPdXGV\"\n",
        "\n",
        "downloaded_train_labels = drive.CreateFile({'id': id_train_labels})\n",
        "downloaded_train_values = drive.CreateFile({'id': id_train_values})\n",
        "downloaded_test_values = drive.CreateFile({'id': id_test_values})\n",
        "downloaded_submission_format = drive.CreateFile({'id': id_submission_format})\n",
        "\n",
        "downloaded_train_labels.GetContentFile('train_labels.csv')\n",
        "downloaded_train_values.GetContentFile('train_values.csv')\n",
        "downloaded_test_values.GetContentFile('test_values.csv')\n",
        "downloaded_submission_format.GetContentFile('submission_format.csv')"
      ],
      "execution_count": null,
      "outputs": []
    },
    {
      "cell_type": "code",
      "metadata": {
        "id": "sd6yv8vCBX6K"
      },
      "source": [
        "train_values = pd.read_csv('train_values.csv', dtype={\n",
        "    'building_id': 'int64', 'geo_level_1_id': 'int64',\n",
        "    'geo_level_2_id': 'int64', 'geo_level_3_id': 'int64',\n",
        "    'count_floors_pre_eq': 'int8', 'age': 'int32',\n",
        "    'area_percentage': 'int32', 'height_percentage': 'int32',\n",
        "    'land_surface_condition': 'category', 'foundation_type': 'category',\n",
        "    'roof_type': 'category', 'ground_floor_type': 'category', 'other_floor_type': 'category',\n",
        "    'position': 'category', 'plan_configuration': 'category', 'has_superstructure_adobe_mud': 'int8',\n",
        "    'has_superstructure_mud_mortar_stone': 'int8', 'has_superstructure_stone_flag': 'int8',\n",
        "    'has_superstructure_cement_mortar_stone': 'int8', 'has_superstructure_mud_mortar_brick': 'int8',\n",
        "    'has_superstructure_cement_mortar_brick': 'int8', 'has_superstructure_timber': 'int8',\n",
        "    'has_superstructure_bamboo': 'int8', 'has_superstructure_rc_non_engineered': 'int8',\n",
        "    'has_superstructure_rc_engineered': 'int8', 'has_superstructure_other': 'int8',\n",
        "    'has_superstructure_other': 'int8', 'legal_ownership_status': 'category',\n",
        "    'has_secondary_use': 'bool', 'has_secondary_use_agriculture': 'bool',\n",
        "    'has_secondary_use_hotel': 'bool', 'has_secondary_use_rental': 'bool',\n",
        "    'has_secondary_use_institution': 'bool', 'has_secondary_use_school': 'bool',\n",
        "    'has_secondary_use_industry': 'bool', 'has_secondary_use_health_post': 'bool',\n",
        "    'has_secondary_use_gov_office': 'bool', 'has_secondary_use_use_police': 'bool',\n",
        "    'has_secondary_use_other': 'bool', 'count_families': 'int8'\n",
        "})\n",
        "train_labels = pd.read_csv('train_labels.csv', dtype={\n",
        "    'damage_grade': 'int16'\n",
        "})\n",
        "\n",
        "test_values = pd.read_csv('test_values.csv', dtype={\n",
        "    'building_id': 'int64', 'geo_level_1_id': 'int64',\n",
        "    'geo_level_2_id': 'int64', 'geo_level_3_id': 'int64',\n",
        "    'count_floors_pre_eq': 'int8', 'age': 'int32',\n",
        "    'area_percentage': 'int32', 'height_percentage': 'int32',\n",
        "    'land_surface_condition': 'category', 'foundation_type': 'category',\n",
        "    'roof_type': 'category', 'ground_floor_type': 'category', 'other_floor_type': 'category',\n",
        "    'position': 'category', 'plan_configuration': 'category', 'has_superstructure_adobe_mud': 'int8',\n",
        "    'has_superstructure_mud_mortar_stone': 'int8', 'has_superstructure_stone_flag': 'int8',\n",
        "    'has_superstructure_cement_mortar_stone': 'int8', 'has_superstructure_mud_mortar_brick': 'int8',\n",
        "    'has_superstructure_cement_mortar_brick': 'int8', 'has_superstructure_timber': 'int8',\n",
        "    'has_superstructure_bamboo': 'int8', 'has_superstructure_rc_non_engineered': 'int8',\n",
        "    'has_superstructure_rc_engineered': 'int8', 'has_superstructure_other': 'int8',\n",
        "    'has_superstructure_other': 'int8', 'legal_ownership_status': 'category',\n",
        "    'has_secondary_use': 'bool', 'has_secondary_use_agriculture': 'bool',\n",
        "    'has_secondary_use_hotel': 'bool', 'has_secondary_use_rental': 'bool',\n",
        "    'has_secondary_use_institution': 'bool', 'has_secondary_use_school': 'bool',\n",
        "    'has_secondary_use_industry': 'bool', 'has_secondary_use_health_post': 'bool',\n",
        "    'has_secondary_use_gov_office': 'bool', 'has_secondary_use_use_police': 'bool',\n",
        "    'has_secondary_use_other': 'bool', 'count_families': 'int8'\n",
        "})"
      ],
      "execution_count": null,
      "outputs": []
    },
    {
      "cell_type": "code",
      "metadata": {
        "id": "uL1yoDefXy59"
      },
      "source": [
        "labels_and_values = pd.merge(train_labels, train_values, how='inner', on='building_id')"
      ],
      "execution_count": null,
      "outputs": []
    },
    {
      "cell_type": "code",
      "metadata": {
        "id": "OM0pao4JGq3a"
      },
      "source": [
        "#labels_and_values[\"volume_percentage\"] = labels_and_values['area_percentage']* labels_and_values['height_percentage']"
      ],
      "execution_count": null,
      "outputs": []
    },
    {
      "cell_type": "code",
      "metadata": {
        "id": "cT0Pt5t4AdyC"
      },
      "source": [
        "#test_values[\"volume_percentage\"] = labels_and_values['area_percentage']* labels_and_values['height_percentage']"
      ],
      "execution_count": null,
      "outputs": []
    },
    {
      "cell_type": "code",
      "metadata": {
        "id": "j7z9jxcjBP8G"
      },
      "source": [
        "test_values"
      ],
      "execution_count": null,
      "outputs": []
    },
    {
      "cell_type": "markdown",
      "metadata": {
        "id": "vybUMsErC40Z"
      },
      "source": [
        "- n_stimators: cantidad de arboles a construir(100)\n",
        "- max_depth: máxima profundidad de cada árbol\n",
        "- min_samples_split: la cantidad minima de datos requeridos para splitear un nodo interno(2)\n",
        "- min_samples_leaf: cantidad minima de datos requeridos para ser una hoja(1)\n",
        "- max_features: la cantidad de features a considerar cuando se busca el mejor split(n)"
      ]
    },
    {
      "cell_type": "markdown",
      "metadata": {
        "id": "MZCQhoFTGkco"
      },
      "source": [
        "##One hot encoding con todas las columnas que nos importan\n"
      ]
    },
    {
      "cell_type": "code",
      "metadata": {
        "id": "pfuKEzFUAlFT"
      },
      "source": [
        "test_values = pd.get_dummies(test_values, columns=['land_surface_condition'], drop_first=True)\n",
        "test_values = pd.get_dummies(test_values, columns=['foundation_type'],drop_first=True)\n",
        "test_values = pd.get_dummies(test_values, columns=['roof_type'],drop_first=True)\n",
        "test_values = pd.get_dummies(test_values, columns=['ground_floor_type'],drop_first=True)\n",
        "test_values = pd.get_dummies(test_values, columns=['plan_configuration'],drop_first=True)\n",
        "test_values = pd.get_dummies(test_values, columns=['position'],drop_first=True)"
      ],
      "execution_count": null,
      "outputs": []
    },
    {
      "cell_type": "code",
      "metadata": {
        "id": "9UaeUq5IHths"
      },
      "source": [
        "labels_and_values = pd.get_dummies(labels_and_values, columns=['land_surface_condition'], drop_first=True)\n",
        "labels_and_values = pd.get_dummies(labels_and_values, columns=['foundation_type'],drop_first=True)\n",
        "labels_and_values = pd.get_dummies(labels_and_values, columns=['roof_type'],drop_first=True)\n",
        "labels_and_values = pd.get_dummies(labels_and_values, columns=['ground_floor_type'],drop_first=True)\n",
        "labels_and_values = pd.get_dummies(labels_and_values, columns=['plan_configuration'],drop_first=True)\n",
        "labels_and_values = pd.get_dummies(labels_and_values, columns=['position'],drop_first=True)\n"
      ],
      "execution_count": null,
      "outputs": []
    },
    {
      "cell_type": "code",
      "metadata": {
        "id": "XZRemaYhAPOm"
      },
      "source": [
        "test_values"
      ],
      "execution_count": null,
      "outputs": []
    },
    {
      "cell_type": "code",
      "metadata": {
        "id": "_kd1lzWMabMU"
      },
      "source": [
        "data = labels_and_values.loc[labels_and_values[\"age\"] <995]"
      ],
      "execution_count": null,
      "outputs": []
    },
    {
      "cell_type": "code",
      "metadata": {
        "id": "JTolVdfvAy-y"
      },
      "source": [
        "data_test_values = test_values.loc[labels_and_values[\"age\"] <995]"
      ],
      "execution_count": null,
      "outputs": []
    },
    {
      "cell_type": "code",
      "metadata": {
        "id": "73LmdZ_7akhu"
      },
      "source": [
        "data[\"age\"].value_counts()"
      ],
      "execution_count": null,
      "outputs": []
    },
    {
      "cell_type": "code",
      "metadata": {
        "id": "m41HlUR_B6B_"
      },
      "source": [
        "features = data[['geo_level_1_id','geo_level_2_id','geo_level_3_id','area_percentage','age',\"height_percentage\",'has_superstructure_adobe_mud',\n",
        "    'has_superstructure_mud_mortar_stone', 'has_superstructure_stone_flag','has_superstructure_cement_mortar_stone', 'has_superstructure_mud_mortar_brick',\n",
        "    'has_superstructure_cement_mortar_brick', 'has_superstructure_timber','has_superstructure_bamboo', 'has_superstructure_rc_non_engineered',\n",
        "    'has_superstructure_rc_engineered', 'has_superstructure_other',\t\"land_surface_condition_o\",\t\"land_surface_condition_t\",\n",
        "    \"foundation_type_i\",\"foundation_type_r\",\t\"foundation_type_u\",\"foundation_type_w\",\t\"roof_type_q\",\t\"roof_type_x\",\t\"ground_floor_type_m\",\n",
        "    \"ground_floor_type_v\",\"ground_floor_type_x\",\t\"ground_floor_type_z\",\t\"plan_configuration_c\",\t\"plan_configuration_d\",\n",
        "    \"plan_configuration_f\",\t\"plan_configuration_m\",\t\"plan_configuration_n\",\t\"plan_configuration_o\",\t\"plan_configuration_q\",\n",
        "    \"plan_configuration_s\",\t\"plan_configuration_u\",\t\"position_o\",\t\"position_s\",\t\"position_t\"]]"
      ],
      "execution_count": null,
      "outputs": []
    },
    {
      "cell_type": "code",
      "metadata": {
        "id": "Pa8fqukiBCgJ"
      },
      "source": [
        "test_values_features = test_values[['geo_level_1_id','geo_level_2_id','geo_level_3_id','area_percentage','age',\"height_percentage\",'has_superstructure_adobe_mud',\n",
        "    'has_superstructure_mud_mortar_stone', 'has_superstructure_stone_flag','has_superstructure_cement_mortar_stone', 'has_superstructure_mud_mortar_brick',\n",
        "    'has_superstructure_cement_mortar_brick', 'has_superstructure_timber','has_superstructure_bamboo', 'has_superstructure_rc_non_engineered',\n",
        "    'has_superstructure_rc_engineered', 'has_superstructure_other',\"volume_percentage\",\t\"land_surface_condition_o\",\t\"land_surface_condition_t\",\n",
        "    \"foundation_type_i\",\"foundation_type_r\",\t\"foundation_type_u\",\"foundation_type_w\",\t\"roof_type_q\",\t\"roof_type_x\",\t\"ground_floor_type_m\",\n",
        "    \"ground_floor_type_v\",\"ground_floor_type_x\",\t\"ground_floor_type_z\",\t\"plan_configuration_c\",\t\"plan_configuration_d\",\n",
        "    \"plan_configuration_f\",\t\"plan_configuration_m\",\t\"plan_configuration_n\",\t\"plan_configuration_o\",\t\"plan_configuration_q\",\n",
        "    \"plan_configuration_s\",\t\"plan_configuration_u\",\t\"position_o\",\t\"position_s\",\t\"position_t\"]]"
      ],
      "execution_count": null,
      "outputs": []
    },
    {
      "cell_type": "code",
      "metadata": {
        "id": "NE76133ZClwU"
      },
      "source": [
        "prediction = data['damage_grade']"
      ],
      "execution_count": null,
      "outputs": []
    },
    {
      "cell_type": "code",
      "metadata": {
        "id": "SA39rW3dCpiT"
      },
      "source": [
        "X_train, X_test, y_train, y_test = train_test_split(features, prediction, test_size=0.2, random_state=0)"
      ],
      "execution_count": null,
      "outputs": []
    },
    {
      "cell_type": "code",
      "metadata": {
        "id": "z2Q2XnsxDOZf"
      },
      "source": [
        "modelo_RF = RandomForestClassifier(random_state=1, n_estimators=100)\n",
        "modelo_RF.fit(X_train, y_train) #entrenamos el modelo\n",
        "prediccion = modelo_RF.predict(X_test)"
      ],
      "execution_count": null,
      "outputs": []
    },
    {
      "cell_type": "code",
      "metadata": {
        "id": "NOCNjxjPDXoV"
      },
      "source": [
        "prediccion_test_values = modelo_RF.predict(test_values_features)"
      ],
      "execution_count": null,
      "outputs": []
    },
    {
      "cell_type": "code",
      "metadata": {
        "colab": {
          "base_uri": "https://localhost:8080/"
        },
        "id": "GcXrTli_DZ7a",
        "outputId": "17b99670-6976-43a2-a19b-d51652b9b3ed"
      },
      "source": [
        "f1_score(prediccion, y_test, average='micro') #es la precision"
      ],
      "execution_count": null,
      "outputs": [
        {
          "output_type": "execute_result",
          "data": {
            "text/plain": [
              "0.7144455374881855"
            ]
          },
          "metadata": {
            "tags": []
          },
          "execution_count": 29
        }
      ]
    },
    {
      "cell_type": "code",
      "metadata": {
        "id": "sowRiTzVrw8y"
      },
      "source": [
        "plt.subplots(figsize=(20,15))\n",
        "plt.bar(X_train.columns, modelo_RF.feature_importances_)\n",
        "plt.xlabel('Features')\n",
        "plt.ylabel('Importancia')\n",
        "plt.title('Importancia de Features elegidos RF con One Hot Encoding')\n",
        "plt.xticks(rotation=90)\n",
        "\n",
        "plt.show()"
      ],
      "execution_count": null,
      "outputs": []
    },
    {
      "cell_type": "code",
      "metadata": {
        "id": "QfLTpx27lyOE"
      },
      "source": [
        "modelo_RF.feature_importances_"
      ],
      "execution_count": null,
      "outputs": []
    },
    {
      "cell_type": "code",
      "metadata": {
        "id": "rNfFK_iW--Fk"
      },
      "source": [
        "submission_format = pd.read_csv('submission_format.csv', index_col='building_id')"
      ],
      "execution_count": null,
      "outputs": []
    },
    {
      "cell_type": "code",
      "metadata": {
        "id": "JzIiuE6r_BKN"
      },
      "source": [
        "my_submission = pd.DataFrame(data = prediccion_test_values,\n",
        "                             columns=submission_format.columns,\n",
        "                             index=submission_format.index)"
      ],
      "execution_count": null,
      "outputs": []
    },
    {
      "cell_type": "code",
      "metadata": {
        "id": "DKKEVYJNEP-i"
      },
      "source": [
        "my_submission.to_csv('submission.csv')"
      ],
      "execution_count": null,
      "outputs": []
    },
    {
      "cell_type": "code",
      "metadata": {
        "colab": {
          "base_uri": "https://localhost:8080/",
          "height": 17
        },
        "id": "2D2SrgN0EVat",
        "outputId": "e1d95f09-a5e1-479d-a7a0-10ab1f6e532f"
      },
      "source": [
        "files.download(\"submission.csv\")"
      ],
      "execution_count": null,
      "outputs": [
        {
          "output_type": "display_data",
          "data": {
            "application/javascript": [
              "\n",
              "    async function download(id, filename, size) {\n",
              "      if (!google.colab.kernel.accessAllowed) {\n",
              "        return;\n",
              "      }\n",
              "      const div = document.createElement('div');\n",
              "      const label = document.createElement('label');\n",
              "      label.textContent = `Downloading \"${filename}\": `;\n",
              "      div.appendChild(label);\n",
              "      const progress = document.createElement('progress');\n",
              "      progress.max = size;\n",
              "      div.appendChild(progress);\n",
              "      document.body.appendChild(div);\n",
              "\n",
              "      const buffers = [];\n",
              "      let downloaded = 0;\n",
              "\n",
              "      const channel = await google.colab.kernel.comms.open(id);\n",
              "      // Send a message to notify the kernel that we're ready.\n",
              "      channel.send({})\n",
              "\n",
              "      for await (const message of channel.messages) {\n",
              "        // Send a message to notify the kernel that we're ready.\n",
              "        channel.send({})\n",
              "        if (message.buffers) {\n",
              "          for (const buffer of message.buffers) {\n",
              "            buffers.push(buffer);\n",
              "            downloaded += buffer.byteLength;\n",
              "            progress.value = downloaded;\n",
              "          }\n",
              "        }\n",
              "      }\n",
              "      const blob = new Blob(buffers, {type: 'application/binary'});\n",
              "      const a = document.createElement('a');\n",
              "      a.href = window.URL.createObjectURL(blob);\n",
              "      a.download = filename;\n",
              "      div.appendChild(a);\n",
              "      a.click();\n",
              "      div.remove();\n",
              "    }\n",
              "  "
            ],
            "text/plain": [
              "<IPython.core.display.Javascript object>"
            ]
          },
          "metadata": {
            "tags": []
          }
        },
        {
          "output_type": "display_data",
          "data": {
            "application/javascript": [
              "download(\"download_b5d09945-af45-4939-911f-f3cb897978a2\", \"submission.csv\", 777012)"
            ],
            "text/plain": [
              "<IPython.core.display.Javascript object>"
            ]
          },
          "metadata": {
            "tags": []
          }
        }
      ]
    },
    {
      "cell_type": "markdown",
      "metadata": {
        "id": "M9KixmvpPSgJ"
      },
      "source": [
        "##Búsqueda de hiper - parámetros con greed Search"
      ]
    },
    {
      "cell_type": "code",
      "metadata": {
        "id": "CuI4NhJOQFg6"
      },
      "source": [
        "features = labels_and_values[[\"geo_level_1_id\",\"geo_level_2_id\",\"geo_level_3_id\",\"area_percentage\",\"age\",\"height_percentage\",\"land_surface_condition_n\",\"land_surface_condition_o\",\"land_surface_condition_t\",'has_superstructure_adobe_mud',\n",
        "    'has_superstructure_mud_mortar_stone', 'has_superstructure_stone_flag','has_superstructure_cement_mortar_stone', 'has_superstructure_mud_mortar_brick',\n",
        "    'has_superstructure_cement_mortar_brick', 'has_superstructure_timber','has_superstructure_bamboo', 'has_superstructure_rc_non_engineered',\n",
        "    'has_superstructure_rc_engineered', 'has_superstructure_other','has_superstructure_other']]"
      ],
      "execution_count": null,
      "outputs": []
    },
    {
      "cell_type": "code",
      "metadata": {
        "id": "iY3hhh_fQGf2"
      },
      "source": [
        "X_train, X_test, y_train, y_test = train_test_split(features, prediction, test_size=0.2, random_state=1)"
      ],
      "execution_count": null,
      "outputs": []
    },
    {
      "cell_type": "markdown",
      "metadata": {
        "id": "IPs65kgVYdle"
      },
      "source": [
        "##Agrego feature de porcentaje de volumen de la edificación"
      ]
    },
    {
      "cell_type": "code",
      "metadata": {
        "id": "hQ5PHgoKYtvV"
      },
      "source": [
        "labels_and_values[\"volume_percentage\"] = labels_and_values['area_percentage']* labels_and_values['height_percentage']"
      ],
      "execution_count": null,
      "outputs": []
    },
    {
      "cell_type": "code",
      "metadata": {
        "id": "I0ls3u-rY4ne"
      },
      "source": [
        "labels_and_values.columns"
      ],
      "execution_count": null,
      "outputs": []
    },
    {
      "cell_type": "code",
      "metadata": {
        "id": "SWOF5U1qZk4U"
      },
      "source": [
        "features = labels_and_values[['geo_level_1_id','geo_level_2_id','geo_level_3_id','area_percentage','age',\"height_percentage\",'volume_percentage']]"
      ],
      "execution_count": null,
      "outputs": []
    },
    {
      "cell_type": "code",
      "metadata": {
        "id": "5qTfrs78ZWI-"
      },
      "source": [
        "X_train, X_test, y_train, y_test = train_test_split(features, prediction, test_size=0.2, random_state=1)"
      ],
      "execution_count": null,
      "outputs": []
    },
    {
      "cell_type": "code",
      "metadata": {
        "id": "7ZsA1im0ZtZf"
      },
      "source": [
        "modelo_RF = RandomForestClassifier(random_state=1)\n",
        "modelo_RF.fit(X_train, y_train) #entrenamos el modelo\n",
        "prediccion = modelo_RF.predict(X_test)"
      ],
      "execution_count": null,
      "outputs": []
    },
    {
      "cell_type": "code",
      "metadata": {
        "id": "nPOjdHS1Zy_q"
      },
      "source": [
        "f1_score(prediccion, y_test, average='micro')"
      ],
      "execution_count": null,
      "outputs": []
    }
  ]
}